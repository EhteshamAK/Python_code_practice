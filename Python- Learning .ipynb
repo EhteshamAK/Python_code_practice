{
 "cells": [
  {
   "cell_type": "code",
   "execution_count": 1,
   "id": "10342ece",
   "metadata": {},
   "outputs": [
    {
     "data": {
      "text/plain": [
       "'Eh'"
      ]
     },
     "execution_count": 1,
     "metadata": {},
     "output_type": "execute_result"
    }
   ],
   "source": [
    "a = \"Ehtesham Ali Khan\"\n",
    "a[:2]"
   ]
  },
  {
   "cell_type": "code",
   "execution_count": 2,
   "id": "7a5d74d1",
   "metadata": {},
   "outputs": [
    {
     "data": {
      "text/plain": [
       "17"
      ]
     },
     "execution_count": 2,
     "metadata": {},
     "output_type": "execute_result"
    }
   ],
   "source": [
    "len(a)"
   ]
  },
  {
   "cell_type": "code",
   "execution_count": 3,
   "id": "e31392d0",
   "metadata": {},
   "outputs": [
    {
     "data": {
      "text/plain": [
       "'nahK ilA mahsethE'"
      ]
     },
     "execution_count": 3,
     "metadata": {},
     "output_type": "execute_result"
    }
   ],
   "source": [
    "a[ : :-1]"
   ]
  },
  {
   "cell_type": "code",
   "execution_count": 4,
   "id": "ec2c9780",
   "metadata": {},
   "outputs": [],
   "source": [
    "import keyword"
   ]
  },
  {
   "cell_type": "code",
   "execution_count": 5,
   "id": "76b1b698",
   "metadata": {},
   "outputs": [
    {
     "name": "stdout",
     "output_type": "stream",
     "text": [
      "['False', 'None', 'True', '__peg_parser__', 'and', 'as', 'assert', 'async', 'await', 'break', 'class', 'continue', 'def', 'del', 'elif', 'else', 'except', 'finally', 'for', 'from', 'global', 'if', 'import', 'in', 'is', 'lambda', 'nonlocal', 'not', 'or', 'pass', 'raise', 'return', 'try', 'while', 'with', 'yield']\n"
     ]
    }
   ],
   "source": [
    "print(keyword.kwlist) "
   ]
  },
  {
   "cell_type": "code",
   "execution_count": 6,
   "id": "bae79bf9",
   "metadata": {},
   "outputs": [
    {
     "data": {
      "text/plain": [
       "36"
      ]
     },
     "execution_count": 6,
     "metadata": {},
     "output_type": "execute_result"
    }
   ],
   "source": [
    "len(keyword.kwlist)"
   ]
  },
  {
   "cell_type": "code",
   "execution_count": 7,
   "id": "722e1df9",
   "metadata": {},
   "outputs": [
    {
     "data": {
      "text/plain": [
       "'\\nThis is used for multiline\\ncommenting. remember these words\\nand signs and  keep them stick to your minds\\n'"
      ]
     },
     "execution_count": 7,
     "metadata": {},
     "output_type": "execute_result"
    }
   ],
   "source": [
    "'''\n",
    "This is used for multiline\n",
    "commenting. remember these words\n",
    "and signs and  keep them stick to your minds\n",
    "'''"
   ]
  },
  {
   "cell_type": "code",
   "execution_count": 8,
   "id": "38058d8f",
   "metadata": {},
   "outputs": [
    {
     "data": {
      "text/plain": [
       "14"
      ]
     },
     "execution_count": 8,
     "metadata": {},
     "output_type": "execute_result"
    }
   ],
   "source": [
    "a = 2 + 2 \\\n",
    "     + 5 + 5\n",
    "a"
   ]
  },
  {
   "cell_type": "code",
   "execution_count": 9,
   "id": "31678eda",
   "metadata": {},
   "outputs": [
    {
     "name": "stdout",
     "output_type": "stream",
     "text": [
      "0\n",
      "1\n",
      "2\n",
      "3\n",
      "4\n",
      "5\n",
      "6\n",
      "7\n",
      "8\n",
      "9\n",
      "10\n",
      "11\n",
      "12\n",
      "13\n",
      "14\n"
     ]
    }
   ],
   "source": [
    "for i in range(0,15):\n",
    "    print(i)"
   ]
  },
  {
   "cell_type": "code",
   "execution_count": 10,
   "id": "cc3dbb47",
   "metadata": {},
   "outputs": [
    {
     "data": {
      "text/plain": [
       "81"
      ]
     },
     "execution_count": 10,
     "metadata": {},
     "output_type": "execute_result"
    }
   ],
   "source": [
    "def square(n):\n",
    "    ''' Doc string is used to define what this function is for'''\n",
    "    return n*n\n",
    "\n",
    "square(9)"
   ]
  },
  {
   "cell_type": "code",
   "execution_count": 11,
   "id": "b412ae2f",
   "metadata": {},
   "outputs": [
    {
     "name": "stdout",
     "output_type": "stream",
     "text": [
      "even number \n"
     ]
    }
   ],
   "source": [
    "def eno(n):\n",
    "    '''even odd Function '''\n",
    "    if n % 2 ==0:\n",
    "        print(\"even number \")\n",
    "    elif n%2 !=0:\n",
    "        print(\"Odd number\")\n",
    "eno(30)"
   ]
  },
  {
   "cell_type": "code",
   "execution_count": 12,
   "id": "abcc18ad",
   "metadata": {},
   "outputs": [
    {
     "data": {
      "text/plain": [
       "'even odd Function '"
      ]
     },
     "execution_count": 12,
     "metadata": {},
     "output_type": "execute_result"
    }
   ],
   "source": [
    "eno.__doc__"
   ]
  },
  {
   "cell_type": "code",
   "execution_count": 13,
   "id": "ccbdbb0b",
   "metadata": {},
   "outputs": [
    {
     "data": {
      "text/plain": [
       "('0x1ea2a5d45e0', function)"
      ]
     },
     "execution_count": 13,
     "metadata": {},
     "output_type": "execute_result"
    }
   ],
   "source": [
    "# check the hex id\n",
    "a = \"Hassan Ali Khan\"\n",
    "hex(id(eno)), type(eno)"
   ]
  },
  {
   "cell_type": "code",
   "execution_count": 14,
   "id": "4fee0ba5",
   "metadata": {},
   "outputs": [
    {
     "data": {
      "text/plain": [
       "200"
      ]
     },
     "execution_count": 14,
     "metadata": {},
     "output_type": "execute_result"
    }
   ],
   "source": [
    "# variable overwiting\n",
    "a = 100\n",
    "b = a +100\n",
    "b"
   ]
  },
  {
   "cell_type": "code",
   "execution_count": 15,
   "id": "443842a4",
   "metadata": {},
   "outputs": [
    {
     "name": "stdout",
     "output_type": "stream",
     "text": [
      "5\n",
      "10\n",
      "15\n"
     ]
    }
   ],
   "source": [
    "#  Multiple assignment\n",
    "a,b, c = 5,10,15\n",
    "print(a)\n",
    "print(b)\n",
    "print(c)"
   ]
  },
  {
   "cell_type": "markdown",
   "id": "c60617a0",
   "metadata": {},
   "source": [
    "Data Type "
   ]
  },
  {
   "cell_type": "code",
   "execution_count": 16,
   "id": "d442bbe3",
   "metadata": {},
   "outputs": [],
   "source": [
    "import sys"
   ]
  },
  {
   "cell_type": "code",
   "execution_count": 17,
   "id": "77de04db",
   "metadata": {},
   "outputs": [
    {
     "name": "stdout",
     "output_type": "stream",
     "text": [
      "28\n"
     ]
    }
   ],
   "source": [
    "a = 10\n",
    "print(sys.getsizeof(a))"
   ]
  },
  {
   "cell_type": "code",
   "execution_count": 18,
   "id": "4f3806f2",
   "metadata": {},
   "outputs": [
    {
     "name": "stdout",
     "output_type": "stream",
     "text": [
      "24\n"
     ]
    }
   ],
   "source": [
    "b = 3952222.1458\n",
    "print(sys.getsizeof(b))"
   ]
  },
  {
   "cell_type": "code",
   "execution_count": 19,
   "id": "0cc24577",
   "metadata": {},
   "outputs": [
    {
     "data": {
      "text/plain": [
       "'Ehtesham Ali KhanEhtesham Ali KhanEhtesham Ali KhanEhtesham Ali KhanEhtesham Ali Khan'"
      ]
     },
     "metadata": {},
     "output_type": "display_data"
    }
   ],
   "source": [
    "v = \"Ehtesham Ali Khan\"\n",
    "r = v*5\n",
    "display(r)"
   ]
  },
  {
   "cell_type": "code",
   "execution_count": 20,
   "id": "374f28a6",
   "metadata": {},
   "outputs": [
    {
     "data": {
      "text/plain": [
       "'Ehtesham Ali Khan'"
      ]
     },
     "execution_count": 20,
     "metadata": {},
     "output_type": "execute_result"
    }
   ],
   "source": [
    "v[-17:]"
   ]
  },
  {
   "cell_type": "code",
   "execution_count": 3,
   "id": "2997d55f",
   "metadata": {},
   "outputs": [
    {
     "ename": "NameError",
     "evalue": "name 'v' is not defined",
     "output_type": "error",
     "traceback": [
      "\u001b[1;31m---------------------------------------------------------------------------\u001b[0m",
      "\u001b[1;31mNameError\u001b[0m                                 Traceback (most recent call last)",
      "\u001b[1;32mC:\\Users\\PCWORL~1\\AppData\\Local\\Temp/ipykernel_6904/2202340874.py\u001b[0m in \u001b[0;36m<module>\u001b[1;34m\u001b[0m\n\u001b[1;32m----> 1\u001b[1;33m \u001b[1;32mdel\u001b[0m \u001b[0mv\u001b[0m\u001b[1;33m\u001b[0m\u001b[1;33m\u001b[0m\u001b[0m\n\u001b[0m",
      "\u001b[1;31mNameError\u001b[0m: name 'v' is not defined"
     ]
    }
   ],
   "source": [
    "del v"
   ]
  },
  {
   "cell_type": "code",
   "execution_count": null,
   "id": "34fedff5",
   "metadata": {},
   "outputs": [],
   "source": [
    "t = \"tension\"\n",
    "for  i in enumerate(t):\n",
    "    print(i)"
   ]
  },
  {
   "cell_type": "markdown",
   "id": "ed1d444c",
   "metadata": {},
   "source": [
    "# Strip is used for removing all white spaces"
   ]
  },
  {
   "cell_type": "code",
   "execution_count": null,
   "id": "608d49a6",
   "metadata": {},
   "outputs": [],
   "source": [
    "c = \"   Hello   \"\n",
    "print(c.strip()) "
   ]
  },
  {
   "cell_type": "raw",
   "id": "2562c63a",
   "metadata": {},
   "source": [
    "Remove all characters at the begining or at the end of the string"
   ]
  },
  {
   "cell_type": "code",
   "execution_count": null,
   "id": "06fe8f15",
   "metadata": {},
   "outputs": [],
   "source": [
    "c = \"/*/*/*/*/ Hello */*/*/*/\"\n",
    "print(c.strip('/*')) "
   ]
  },
  {
   "cell_type": "code",
   "execution_count": null,
   "id": "d31ecd74",
   "metadata": {},
   "outputs": [],
   "source": [
    "c.upper()"
   ]
  },
  {
   "cell_type": "code",
   "execution_count": null,
   "id": "64b54b5c",
   "metadata": {},
   "outputs": [],
   "source": [
    "t= \"Good Morning\"\n",
    "print(t.lower())\n",
    "print(t.upper())\n",
    "print(t.title())"
   ]
  },
  {
   "cell_type": "code",
   "execution_count": null,
   "id": "7dd0fc6e",
   "metadata": {},
   "outputs": [],
   "source": [
    "t.replace(\"Morning\",\"Night\")"
   ]
  },
  {
   "cell_type": "raw",
   "id": "04781e92",
   "metadata": {},
   "source": [
    "You can remove white spaces as well using replace function"
   ]
  },
  {
   "cell_type": "code",
   "execution_count": null,
   "id": "7608d34d",
   "metadata": {},
   "outputs": [],
   "source": [
    "t.replace(\" \",\"\")"
   ]
  },
  {
   "cell_type": "markdown",
   "id": "9939f06c",
   "metadata": {},
   "source": [
    "To see the occurance of particular words in the string"
   ]
  },
  {
   "cell_type": "code",
   "execution_count": null,
   "id": "d658f0c2",
   "metadata": {},
   "outputs": [],
   "source": [
    "t.count(\"n\") # n appears two times inthe t string"
   ]
  },
  {
   "cell_type": "code",
   "execution_count": null,
   "id": "245a1678",
   "metadata": {},
   "outputs": [],
   "source": [
    "t.strip()"
   ]
  },
  {
   "cell_type": "code",
   "execution_count": null,
   "id": "38e8eaa0",
   "metadata": {},
   "outputs": [],
   "source": [
    "#  to check if the required letter starts with the required string\n",
    "t.startswith(\"Good\")"
   ]
  },
  {
   "cell_type": "code",
   "execution_count": null,
   "id": "d76cc7e6",
   "metadata": {},
   "outputs": [],
   "source": [
    "print(t.endswith(\"Morning\"))"
   ]
  },
  {
   "cell_type": "code",
   "execution_count": null,
   "id": "02672e41",
   "metadata": {},
   "outputs": [],
   "source": [
    "e = \"Ehtesham ali khan\"\n",
    "e.startswith(\"Ehtesham\")"
   ]
  },
  {
   "cell_type": "code",
   "execution_count": null,
   "id": "022bbb4e",
   "metadata": {},
   "outputs": [],
   "source": [
    "e.endswith(\"n\")"
   ]
  },
  {
   "cell_type": "code",
   "execution_count": null,
   "id": "b2ac3c2c",
   "metadata": {},
   "outputs": [],
   "source": [
    "e.split()"
   ]
  },
  {
   "cell_type": "markdown",
   "id": "b8eff467",
   "metadata": {},
   "source": [
    "# List "
   ]
  },
  {
   "cell_type": "code",
   "execution_count": null,
   "id": "b2126ced",
   "metadata": {},
   "outputs": [],
   "source": [
    "l = [1,2,3,4,5]\n",
    "type(l)\n",
    "hex(id(l))"
   ]
  },
  {
   "cell_type": "code",
   "execution_count": null,
   "id": "d57153fd",
   "metadata": {},
   "outputs": [],
   "source": [
    "print(sys.getsizeof(l))"
   ]
  },
  {
   "cell_type": "code",
   "execution_count": null,
   "id": "2df40b7e",
   "metadata": {},
   "outputs": [],
   "source": [
    "type(l)"
   ]
  },
  {
   "cell_type": "code",
   "execution_count": null,
   "id": "b3f6e77f",
   "metadata": {},
   "outputs": [],
   "source": [
    "l[::-1]"
   ]
  },
  {
   "cell_type": "code",
   "execution_count": null,
   "id": "39efb2df",
   "metadata": {},
   "outputs": [],
   "source": [
    "l.reverse()\n",
    "l"
   ]
  },
  {
   "cell_type": "code",
   "execution_count": null,
   "id": "af78d34c",
   "metadata": {},
   "outputs": [],
   "source": [
    "l.sort()\n",
    "l"
   ]
  },
  {
   "cell_type": "code",
   "execution_count": null,
   "id": "e132853e",
   "metadata": {},
   "outputs": [],
   "source": [
    "b = [\"one\",\"two\",\"three\"]"
   ]
  },
  {
   "cell_type": "code",
   "execution_count": null,
   "id": "317d6789",
   "metadata": {},
   "outputs": [],
   "source": [
    "b.reverse()\n",
    "b"
   ]
  },
  {
   "cell_type": "code",
   "execution_count": null,
   "id": "f68680fa",
   "metadata": {},
   "outputs": [],
   "source": [
    "b.pop()"
   ]
  },
  {
   "cell_type": "code",
   "execution_count": null,
   "id": "229cbd5e",
   "metadata": {},
   "outputs": [],
   "source": [
    "b"
   ]
  },
  {
   "cell_type": "code",
   "execution_count": null,
   "id": "0dfec183",
   "metadata": {},
   "outputs": [],
   "source": [
    "b.remove(\"two\")"
   ]
  },
  {
   "cell_type": "code",
   "execution_count": null,
   "id": "8f0dc9d3",
   "metadata": {},
   "outputs": [],
   "source": [
    "b"
   ]
  },
  {
   "cell_type": "code",
   "execution_count": null,
   "id": "a3b36b57",
   "metadata": {},
   "outputs": [],
   "source": [
    "b.append(\"new\")"
   ]
  },
  {
   "cell_type": "code",
   "execution_count": null,
   "id": "a5519bf5",
   "metadata": {},
   "outputs": [],
   "source": [
    "b"
   ]
  },
  {
   "cell_type": "code",
   "execution_count": null,
   "id": "9c81d6b4",
   "metadata": {},
   "outputs": [],
   "source": [
    "b.insert(0,\"one\")"
   ]
  },
  {
   "cell_type": "code",
   "execution_count": null,
   "id": "ef1a4e5d",
   "metadata": {},
   "outputs": [],
   "source": [
    "b"
   ]
  },
  {
   "cell_type": "code",
   "execution_count": null,
   "id": "d9ff68e3",
   "metadata": {},
   "outputs": [],
   "source": [
    "c = [\"two\",\"four\",\"five\"]\n",
    "b.extend(c)\n",
    "b"
   ]
  },
  {
   "cell_type": "code",
   "execution_count": null,
   "id": "53bc8d44",
   "metadata": {},
   "outputs": [],
   "source": [
    "b.sort(reverse=True)\n",
    "b"
   ]
  },
  {
   "cell_type": "code",
   "execution_count": null,
   "id": "9eadf33b",
   "metadata": {},
   "outputs": [],
   "source": [
    "for i in b:\n",
    "    print(i)"
   ]
  },
  {
   "cell_type": "code",
   "execution_count": null,
   "id": "8558ab0e",
   "metadata": {},
   "outputs": [],
   "source": [
    "for i in enumerate(b):\n",
    "    print(i)"
   ]
  },
  {
   "cell_type": "code",
   "execution_count": null,
   "id": "0db41619",
   "metadata": {},
   "outputs": [],
   "source": [
    "d = [i for i in enumerate(b) ]\n",
    "list(d)"
   ]
  },
  {
   "cell_type": "code",
   "execution_count": null,
   "id": "2bb5d5e6",
   "metadata": {},
   "outputs": [],
   "source": [
    "b.items()"
   ]
  },
  {
   "cell_type": "code",
   "execution_count": null,
   "id": "44ee51d2",
   "metadata": {},
   "outputs": [],
   "source": [
    "b.count(\"two\")"
   ]
  },
  {
   "cell_type": "code",
   "execution_count": null,
   "id": "788170de",
   "metadata": {},
   "outputs": [],
   "source": [
    "#  LIst comprehension\n",
    "\n",
    "even = [i for i in range(0,100) if i%2 == 0]\n",
    "print(even)"
   ]
  },
  {
   "cell_type": "code",
   "execution_count": null,
   "id": "9fcc647f",
   "metadata": {},
   "outputs": [],
   "source": [
    "odd = [i for i in range(0,100) if i%2 !=0]\n",
    "print(odd)"
   ]
  },
  {
   "cell_type": "code",
   "execution_count": null,
   "id": "9b25b7e7",
   "metadata": {},
   "outputs": [],
   "source": [
    "# Print square of first 10 numbers\n",
    "square = [i*2 for i in range(10)]\n",
    "square"
   ]
  },
  {
   "cell_type": "code",
   "execution_count": null,
   "id": "cc65041a",
   "metadata": {},
   "outputs": [],
   "source": [
    "# print cube of first ten numbers\n",
    "cube = [i*3 for i in range(10)]\n",
    "cube"
   ]
  },
  {
   "cell_type": "code",
   "execution_count": null,
   "id": "b8c97675",
   "metadata": {},
   "outputs": [],
   "source": [
    "# extract digits from a string\n",
    "w = \"one 1 two 2 3 three 4 four\"\n",
    "x = [i for i in w if i.isdigit()]\n",
    "x"
   ]
  },
  {
   "cell_type": "code",
   "execution_count": null,
   "id": "44f347f6",
   "metadata": {},
   "outputs": [],
   "source": [
    "y = [i for i in w if i.isalpha()]"
   ]
  },
  {
   "cell_type": "code",
   "execution_count": null,
   "id": "8ac12664",
   "metadata": {},
   "outputs": [],
   "source": [
    "y"
   ]
  },
  {
   "cell_type": "code",
   "execution_count": null,
   "id": "d2db9c26",
   "metadata": {},
   "outputs": [],
   "source": [
    "r = \"Ehtesham Ali Khan\"\n",
    "print(hex(id(r)))"
   ]
  },
  {
   "cell_type": "code",
   "execution_count": null,
   "id": "283b2281",
   "metadata": {},
   "outputs": [],
   "source": [
    "type(r)"
   ]
  },
  {
   "cell_type": "code",
   "execution_count": null,
   "id": "77d03a83",
   "metadata": {},
   "outputs": [],
   "source": [
    "import keyword"
   ]
  },
  {
   "cell_type": "code",
   "execution_count": null,
   "id": "7427b9b6",
   "metadata": {},
   "outputs": [],
   "source": [
    "print(keyword.kwlist)"
   ]
  },
  {
   "cell_type": "code",
   "execution_count": null,
   "id": "2cb89417",
   "metadata": {},
   "outputs": [],
   "source": [
    "def greet(m):\n",
    "    return \"Hello {}\".format(m)\n",
    "greet(\"Ali\")"
   ]
  },
  {
   "cell_type": "code",
   "execution_count": null,
   "id": "595c9e14",
   "metadata": {},
   "outputs": [],
   "source": [
    "a = \"/=-=-=-=-=-#$%^& Hello World -&*&^%%$$%%\"\n",
    "print(a.strip(\"/&=-\"))"
   ]
  },
  {
   "cell_type": "code",
   "execution_count": null,
   "id": "20b302f8",
   "metadata": {},
   "outputs": [],
   "source": [
    "print(a.strip(\"#$%&-^-=/*\"))"
   ]
  },
  {
   "cell_type": "code",
   "execution_count": null,
   "id": "2fa06725",
   "metadata": {},
   "outputs": [],
   "source": [
    "w = \"Ehtesham Ali Khan\"\n",
    "\n",
    "for i in enumerate(w):\n",
    "    print(i)"
   ]
  },
  {
   "cell_type": "code",
   "execution_count": null,
   "id": "6e004429",
   "metadata": {},
   "outputs": [],
   "source": [
    "def name(n):\n",
    "    ''' This function defines the name '''\n",
    "#     a =  n.strip()\n",
    "#     print(a)\n",
    "#     a = n.upper()\n",
    "#     print(a)\n",
    "    if n == \"Ehtesham\":\n",
    "        print(\"Hey! you got it right\")\n",
    "    elif n == \"Hassan\":\n",
    "        print(\"Little up\")\n",
    "    elif n == \"Seemab\":\n",
    "        print(\"keep going up! you are getting closer\")\n",
    "    else:\n",
    "        print(\"Nah! you type wrong\")\n",
    "n = input(\"Ehtesham, Hassan, Seemab - \")        \n",
    "name(n)"
   ]
  },
  {
   "cell_type": "code",
   "execution_count": null,
   "id": "30226e2d",
   "metadata": {},
   "outputs": [],
   "source": [
    "name.__doc__"
   ]
  },
  {
   "cell_type": "code",
   "execution_count": 2,
   "id": "30bf9124",
   "metadata": {},
   "outputs": [
    {
     "name": "stdout",
     "output_type": "stream",
     "text": [
      "enter your nameehtesham\n",
      "Ehtesham\n"
     ]
    }
   ],
   "source": [
    "bv = str(input(\"enter your name\"))\n",
    "print(bv.title())"
   ]
  },
  {
   "cell_type": "code",
   "execution_count": 1,
   "id": "d48d559f",
   "metadata": {},
   "outputs": [
    {
     "name": "stdout",
     "output_type": "stream",
     "text": [
      "Ehtesham Ali Khan\n"
     ]
    }
   ],
   "source": [
    "e = \"Ehtesham Ali Khan\"\n",
    "print(e)"
   ]
  },
  {
   "cell_type": "markdown",
   "id": "c3b1a14c",
   "metadata": {},
   "source": [
    "# Tuple "
   ]
  },
  {
   "cell_type": "raw",
   "id": "126f88cf",
   "metadata": {},
   "source": [
    "When we don't want to change data over time, then tuple is the preferred data type"
   ]
  },
  {
   "cell_type": "code",
   "execution_count": 8,
   "id": "68a1f77e",
   "metadata": {},
   "outputs": [],
   "source": [
    "ae = (10,20,30,[\"nerd\",\"geek\"],{\"Ehtesham\",\"Khan\"},(10,20,30))"
   ]
  },
  {
   "cell_type": "code",
   "execution_count": 9,
   "id": "f972edfc",
   "metadata": {},
   "outputs": [
    {
     "data": {
      "text/plain": [
       "tuple"
      ]
     },
     "execution_count": 9,
     "metadata": {},
     "output_type": "execute_result"
    }
   ],
   "source": [
    "type(ae)"
   ]
  },
  {
   "cell_type": "code",
   "execution_count": 11,
   "id": "b660b49f",
   "metadata": {},
   "outputs": [
    {
     "data": {
      "text/plain": [
       "'0x14dfc2d3040'"
      ]
     },
     "execution_count": 11,
     "metadata": {},
     "output_type": "execute_result"
    }
   ],
   "source": [
    "hex(id(ae))"
   ]
  },
  {
   "cell_type": "code",
   "execution_count": 12,
   "id": "f8b029ef",
   "metadata": {},
   "outputs": [
    {
     "data": {
      "text/plain": [
       "6"
      ]
     },
     "execution_count": 12,
     "metadata": {},
     "output_type": "execute_result"
    }
   ],
   "source": [
    "len(ae)"
   ]
  },
  {
   "cell_type": "markdown",
   "id": "bf93a41f",
   "metadata": {},
   "source": [
    "### Tuple Indexing"
   ]
  },
  {
   "cell_type": "code",
   "execution_count": 13,
   "id": "056e3970",
   "metadata": {},
   "outputs": [
    {
     "data": {
      "text/plain": [
       "(10, 20, 30)"
      ]
     },
     "execution_count": 13,
     "metadata": {},
     "output_type": "execute_result"
    }
   ],
   "source": [
    "ae[:3]"
   ]
  },
  {
   "cell_type": "code",
   "execution_count": 27,
   "id": "6c2b15a1",
   "metadata": {},
   "outputs": [
    {
     "data": {
      "text/plain": [
       "'geek'"
      ]
     },
     "execution_count": 27,
     "metadata": {},
     "output_type": "execute_result"
    }
   ],
   "source": [
    "ae[-3:][0][1] # output will be greek"
   ]
  },
  {
   "cell_type": "code",
   "execution_count": 33,
   "id": "93ed5576",
   "metadata": {},
   "outputs": [
    {
     "data": {
      "text/plain": [
       "{'Ehtesham', 'Khan'}"
      ]
     },
     "execution_count": 33,
     "metadata": {},
     "output_type": "execute_result"
    }
   ],
   "source": [
    "# print output Ehtesham\n",
    "ae[-2: ][0]"
   ]
  },
  {
   "cell_type": "raw",
   "id": "9ccd5a0e",
   "metadata": {},
   "source": [
    "you cann't add value in tuple, first convert it to list and then add and then reconvert"
   ]
  },
  {
   "cell_type": "code",
   "execution_count": 44,
   "id": "302db731",
   "metadata": {},
   "outputs": [
    {
     "ename": "AttributeError",
     "evalue": "'tuple' object has no attribute 'append'",
     "output_type": "error",
     "traceback": [
      "\u001b[1;31m---------------------------------------------------------------------------\u001b[0m",
      "\u001b[1;31mAttributeError\u001b[0m                            Traceback (most recent call last)",
      "\u001b[1;32mC:\\Users\\PCWORL~1\\AppData\\Local\\Temp/ipykernel_9136/1589564546.py\u001b[0m in \u001b[0;36m<module>\u001b[1;34m\u001b[0m\n\u001b[0;32m      1\u001b[0m \u001b[0mru\u001b[0m \u001b[1;33m=\u001b[0m \u001b[1;33m(\u001b[0m\u001b[1;36m1\u001b[0m\u001b[1;33m,\u001b[0m\u001b[1;36m3\u001b[0m\u001b[1;33m,\u001b[0m\u001b[1;36m5\u001b[0m\u001b[1;33m,\u001b[0m\u001b[1;36m7\u001b[0m\u001b[1;33m)\u001b[0m\u001b[1;33m\u001b[0m\u001b[1;33m\u001b[0m\u001b[0m\n\u001b[1;32m----> 2\u001b[1;33m \u001b[0mru\u001b[0m\u001b[1;33m.\u001b[0m\u001b[0mappend\u001b[0m\u001b[1;33m(\u001b[0m\u001b[1;36m2\u001b[0m\u001b[1;33m,\u001b[0m\u001b[1;36m4\u001b[0m\u001b[1;33m,\u001b[0m\u001b[1;36m6\u001b[0m\u001b[1;33m)\u001b[0m\u001b[1;33m\u001b[0m\u001b[1;33m\u001b[0m\u001b[0m\n\u001b[0m\u001b[0;32m      3\u001b[0m \u001b[0mru\u001b[0m\u001b[1;33m\u001b[0m\u001b[1;33m\u001b[0m\u001b[0m\n",
      "\u001b[1;31mAttributeError\u001b[0m: 'tuple' object has no attribute 'append'"
     ]
    }
   ],
   "source": [
    "ru = (1,3,5,7)\n",
    "ru.append(2,4,6)\n",
    "ru"
   ]
  },
  {
   "cell_type": "code",
   "execution_count": 45,
   "id": "611fa3a1",
   "metadata": {},
   "outputs": [
    {
     "name": "stdout",
     "output_type": "stream",
     "text": [
      "(1, 2, 3, 4, 5, 6, 7)\n"
     ]
    }
   ],
   "source": [
    "ar = list(ru)\n",
    "br = [2,4,6]\n",
    "ar.extend(br)\n",
    "ar.sort()\n",
    "ru = tuple(ar)\n",
    "print(ru)"
   ]
  },
  {
   "cell_type": "code",
   "execution_count": 46,
   "id": "62ccd94f",
   "metadata": {},
   "outputs": [
    {
     "data": {
      "text/plain": [
       "tuple"
      ]
     },
     "execution_count": 46,
     "metadata": {},
     "output_type": "execute_result"
    }
   ],
   "source": [
    "type(ru)"
   ]
  },
  {
   "cell_type": "code",
   "execution_count": 47,
   "id": "73ff1f32",
   "metadata": {},
   "outputs": [
    {
     "data": {
      "text/plain": [
       "(1, 2, 3, 4, 5, 6, 7)"
      ]
     },
     "execution_count": 47,
     "metadata": {},
     "output_type": "execute_result"
    }
   ],
   "source": [
    "ru"
   ]
  },
  {
   "cell_type": "code",
   "execution_count": 48,
   "id": "d8d72c71",
   "metadata": {},
   "outputs": [
    {
     "name": "stdout",
     "output_type": "stream",
     "text": [
      "(0, 1)\n",
      "(1, 2)\n",
      "(2, 3)\n",
      "(3, 4)\n",
      "(4, 5)\n",
      "(5, 6)\n",
      "(6, 7)\n"
     ]
    }
   ],
   "source": [
    "for i in enumerate(ru):\n",
    "    print(i)"
   ]
  },
  {
   "cell_type": "markdown",
   "id": "ee26711d",
   "metadata": {},
   "source": [
    "## Tuple membership"
   ]
  },
  {
   "cell_type": "code",
   "execution_count": 51,
   "id": "55908120",
   "metadata": {},
   "outputs": [
    {
     "data": {
      "text/plain": [
       "True"
      ]
     },
     "execution_count": 51,
     "metadata": {},
     "output_type": "execute_result"
    }
   ],
   "source": [
    "# check if item exists - exist it will return true else will false\n",
    "3 in ru"
   ]
  },
  {
   "cell_type": "code",
   "execution_count": 52,
   "id": "8c5fb108",
   "metadata": {},
   "outputs": [
    {
     "data": {
      "text/plain": [
       "False"
      ]
     },
     "execution_count": 52,
     "metadata": {},
     "output_type": "execute_result"
    }
   ],
   "source": [
    "8 in ru"
   ]
  },
  {
   "cell_type": "markdown",
   "id": "a5a621f9",
   "metadata": {},
   "source": [
    "# Functions "
   ]
  },
  {
   "cell_type": "code",
   "execution_count": 56,
   "id": "e1de19e2",
   "metadata": {},
   "outputs": [
    {
     "name": "stdout",
     "output_type": "stream",
     "text": [
      "('Ehtesham Ali Khan', 'Hassan Ali Khan', 28, 22, 'Seemab Shaheen', 26, False, False, True)\n"
     ]
    }
   ],
   "source": [
    "# provide list of arguments \n",
    "def muliple_args(*n):\n",
    "    ''' This returns the list of arguments '''\n",
    "    print(n)\n",
    "    \n",
    "muliple_args(\"Ehtesham Ali Khan\", \"Hassan Ali Khan\",28, 22, \"Seemab Shaheen\", 26, False,False,True)"
   ]
  },
  {
   "cell_type": "code",
   "execution_count": 58,
   "id": "9297858c",
   "metadata": {},
   "outputs": [
    {
     "data": {
      "text/plain": [
       "' This returns the list of arguments '"
      ]
     },
     "execution_count": 58,
     "metadata": {},
     "output_type": "execute_result"
    }
   ],
   "source": [
    "muliple_args.__doc__"
   ]
  },
  {
   "cell_type": "markdown",
   "id": "e9e7ed96",
   "metadata": {},
   "source": [
    "### Parameter is the variable that is listed inside the function paranthesis"
   ]
  },
  {
   "cell_type": "markdown",
   "id": "b85a1f0c",
   "metadata": {},
   "source": [
    "### The value passed to the function as an argument when it is called"
   ]
  },
  {
   "cell_type": "code",
   "execution_count": 61,
   "id": "825036eb",
   "metadata": {},
   "outputs": [
    {
     "name": "stdout",
     "output_type": "stream",
     "text": [
      "{'name': 'Ehtesham Ali Khan', 'age': 28, 'marital_status': 'single', 'nationlity': 'Uk,Pakistan', 'cars': 'None'}\n"
     ]
    }
   ],
   "source": [
    "def  pairs_words(**words_in_pairs):\n",
    "    print(words_in_pairs)\n",
    "    \n",
    "    \n",
    "pairs_words(name=\"Ehtesham Ali Khan\",age= 28, marital_status=\"single\",nationlity=\"Uk,Pakistan\",cars=\"None\")"
   ]
  },
  {
   "cell_type": "markdown",
   "id": "96bef48e",
   "metadata": {},
   "source": [
    "# Lambda\n",
    "\n",
    "A lambda function is an anonymous function without a name\n",
    "\n",
    "<strong> lambda function can have many number of arguments but only one expression </strong>\n",
    "\n",
    "#### Syntax\n",
    "\n",
    "<bold>lambda : </bold>\n",
    "lambda\n",
    "\n",
    "<bold> Arguments : </bold>\n",
    "num1,num2,num3\n",
    "\n",
    "<bold>Expression : </bold>\n",
    "num1+num2+num3\n",
    "\n",
    "lambda num1+num2+num3:num1+num2+num3\n",
    "\n",
    "\n"
   ]
  },
  {
   "cell_type": "code",
   "execution_count": 7,
   "id": "2f5ecb84",
   "metadata": {},
   "outputs": [
    {
     "name": "stdout",
     "output_type": "stream",
     "text": [
      "1000\n"
     ]
    }
   ],
   "source": [
    "# This lambda function multiply value 10 to the value\n",
    "multiply = lambda a : a*10\n",
    "print(multiply(100))"
   ]
  },
  {
   "cell_type": "code",
   "execution_count": 8,
   "id": "dab70736",
   "metadata": {},
   "outputs": [
    {
     "name": "stdout",
     "output_type": "stream",
     "text": [
      "1.0\n"
     ]
    }
   ],
   "source": [
    "add = lambda a1,b2,c3:(a1+b2)/c3\n",
    "print(add(2,3,5))"
   ]
  },
  {
   "cell_type": "code",
   "execution_count": 9,
   "id": "f1957a9b",
   "metadata": {},
   "outputs": [
    {
     "data": {
      "text/plain": [
       "function"
      ]
     },
     "execution_count": 9,
     "metadata": {},
     "output_type": "execute_result"
    }
   ],
   "source": [
    "type(add)"
   ]
  },
  {
   "cell_type": "code",
   "execution_count": 10,
   "id": "5315ebe4",
   "metadata": {},
   "outputs": [
    {
     "name": "stdout",
     "output_type": "stream",
     "text": [
      "1589609\n"
     ]
    }
   ],
   "source": [
    "sum_of_list_of_number = lambda *n: sum(n)\n",
    "print(sum_of_list_of_number(5,5,5,5,100,1589489))"
   ]
  },
  {
   "cell_type": "code",
   "execution_count": 18,
   "id": "25ac8214",
   "metadata": {},
   "outputs": [
    {
     "name": "stdout",
     "output_type": "stream",
     "text": [
      "200 4800\n"
     ]
    }
   ],
   "source": [
    "product_pairs = (lambda **pair: sum(pair.values()))\n",
    "print(product_pairs(a=10,b=100,c=90),product_pairs(a=100,b=200,c=4500))"
   ]
  },
  {
   "cell_type": "markdown",
   "id": "3aca9780",
   "metadata": {},
   "source": [
    "#  Filter"
   ]
  },
  {
   "cell_type": "markdown",
   "id": "cc3c642f",
   "metadata": {},
   "source": [
    "Filter function filter the original iterable and passes the items that return True for the function provided to filter"
   ]
  },
  {
   "cell_type": "markdown",
   "id": "9dadc58d",
   "metadata": {},
   "source": [
    "filter method takes two parameter\n",
    "1. function - function tests if element of an iterable  return true or false\n",
    "2. Iterable - Sequence which needs to be filtered, could be sets, lists,tuples or any iterators."
   ]
  },
  {
   "cell_type": "markdown",
   "id": "55407d96",
   "metadata": {},
   "source": [
    "##### Syntax\n",
    "\n",
    "filter(lambda n: n%2==1,list1)\n"
   ]
  },
  {
   "cell_type": "code",
   "execution_count": 25,
   "id": "bb45069e",
   "metadata": {},
   "outputs": [
    {
     "name": "stdout",
     "output_type": "stream",
     "text": [
      "[1, 5, 7, 9, 11, 13, 15]\n"
     ]
    }
   ],
   "source": [
    "# Filter the odd numbers using this list\n",
    "list1 = [1,2,5,6,7,8,9,10,11,12,13,14,15,16]\n",
    "odd = filter(lambda n:n%2==1,list1)\n",
    "print(list(odd))"
   ]
  },
  {
   "cell_type": "code",
   "execution_count": 27,
   "id": "147ff52d",
   "metadata": {},
   "outputs": [
    {
     "name": "stdout",
     "output_type": "stream",
     "text": [
      "[2, 6, 8, 10, 12, 14, 16]\n"
     ]
    }
   ],
   "source": [
    "list_2 = [1,2,5,6,7,8,9,10,11,12,13,14,15,16]\n",
    "even = list(filter(lambda n: n%2 == 0,list_2))\n",
    "print(even)"
   ]
  },
  {
   "cell_type": "code",
   "execution_count": 28,
   "id": "98709946",
   "metadata": {},
   "outputs": [
    {
     "name": "stdout",
     "output_type": "stream",
     "text": [
      "['England', 'Ireland', 'Finland', 'New Zealand', 'Netherland', 'Switzerland']\n"
     ]
    }
   ],
   "source": [
    "# display only those countries that contain word -land- \n",
    "countries = [\"England\",\"Ireland\",\"Finland\",\"New Zealand\",\"Netherland\",\"Switzerland\",\"Slovenia\",\"Slovakia\",\"Pakistan\",\"India\"]\n",
    "Land_in_countries = list(filter(lambda n: \"land\" in n, countries))\n",
    "print(Land_in_countries)"
   ]
  },
  {
   "cell_type": "markdown",
   "id": "0e2ea168",
   "metadata": {},
   "source": [
    "#### Using filter in simple function"
   ]
  },
  {
   "cell_type": "code",
   "execution_count": 46,
   "id": "b4d295d9",
   "metadata": {},
   "outputs": [
    {
     "data": {
      "text/plain": [
       "[1, 3, 5, 7, 9, 11, 13, 15, 17, 19]"
      ]
     },
     "execution_count": 46,
     "metadata": {},
     "output_type": "execute_result"
    }
   ],
   "source": [
    "# filter odd number \n",
    "num = [1,2,3,4,5,6,7,9,10,11,12,13,14,15,16,17,18,19,20]\n",
    "\n",
    "def odd_num(n):\n",
    "    if n%2==1:\n",
    "        return True\n",
    "    else:\n",
    "        return False\n",
    "        \n",
    "show_odd = list(filter(odd_num,num))\n",
    "show_odd"
   ]
  },
  {
   "cell_type": "code",
   "execution_count": 48,
   "id": "8dd5f670",
   "metadata": {},
   "outputs": [
    {
     "data": {
      "text/plain": [
       "[2, 4, 6, 10, 12, 14, 16, 18, 20]"
      ]
     },
     "execution_count": 48,
     "metadata": {},
     "output_type": "execute_result"
    }
   ],
   "source": [
    "# filter even number \n",
    "num = [1,2,3,4,5,6,7,9,10,11,12,13,14,15,16,17,18,19,20]\n",
    "\n",
    "def even_num(n):\n",
    "    if n%2==0:\n",
    "        return True\n",
    "    else:\n",
    "        return False\n",
    "        \n",
    "show_even = list(filter(even_num,num))\n",
    "show_even"
   ]
  },
  {
   "cell_type": "markdown",
   "id": "07a869f1",
   "metadata": {},
   "source": [
    "# Map\n",
    "\n",
    "The map function applies a given function to each item of an iterable (list, tuple etc) and return a list of results."
   ]
  },
  {
   "cell_type": "markdown",
   "id": "d4c3ddcc",
   "metadata": {},
   "source": [
    " Map functions takes two parameters\n",
    " 1. The function to execute for each item in a given iterable\n",
    " 2. It is a iterable which is to be mapped\n",
    " \n",
    " Syntax\n",
    " \n",
    " map(lambda n: n%2==0, list1)\n",
    " \n",
    " 1. map \n",
    " 2. function\n",
    " 3. iterable"
   ]
  },
  {
   "cell_type": "code",
   "execution_count": 49,
   "id": "83195e2f",
   "metadata": {},
   "outputs": [
    {
     "data": {
      "text/plain": [
       "[4, 8, 10, 12, 14, 16]"
      ]
     },
     "execution_count": 49,
     "metadata": {},
     "output_type": "execute_result"
    }
   ],
   "source": [
    "list_3 = [2,4,5,6,7,8]\n",
    "\n",
    "def double(n):\n",
    "    return n*2\n",
    "\n",
    "twice = list(map(double,list_3))\n",
    "twice"
   ]
  },
  {
   "cell_type": "code",
   "execution_count": 50,
   "id": "26dda769",
   "metadata": {},
   "outputs": [
    {
     "data": {
      "text/plain": [
       "[4, 8, 10, 12, 14, 16]"
      ]
     },
     "execution_count": 50,
     "metadata": {},
     "output_type": "execute_result"
    }
   ],
   "source": [
    "# this could be done as well\n",
    "twice_copy = list(map(lambda n:n*2, list_3))\n",
    "twice_copy"
   ]
  },
  {
   "cell_type": "markdown",
   "id": "5cf1b517",
   "metadata": {},
   "source": [
    "When you want to iterate thorough a  list or tuple and perform any calculation or any operation on it then use map function"
   ]
  },
  {
   "cell_type": "markdown",
   "id": "d6308dec",
   "metadata": {},
   "source": [
    "# Reduce\n",
    "\n",
    "The reduce() function reduce two arguments function and an iterable. However it "
   ]
  },
  {
   "cell_type": "code",
   "execution_count": null,
   "id": "be969ce2",
   "metadata": {},
   "outputs": [],
   "source": []
  }
 ],
 "metadata": {
  "kernelspec": {
   "display_name": "Python 3 (ipykernel)",
   "language": "python",
   "name": "python3"
  },
  "language_info": {
   "codemirror_mode": {
    "name": "ipython",
    "version": 3
   },
   "file_extension": ".py",
   "mimetype": "text/x-python",
   "name": "python",
   "nbconvert_exporter": "python",
   "pygments_lexer": "ipython3",
   "version": "3.9.7"
  }
 },
 "nbformat": 4,
 "nbformat_minor": 5
}
