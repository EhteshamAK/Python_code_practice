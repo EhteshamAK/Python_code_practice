{
 "cells": [
  {
   "cell_type": "code",
   "execution_count": 1,
   "id": "10342ece",
   "metadata": {},
   "outputs": [
    {
     "data": {
      "text/plain": [
       "'Eh'"
      ]
     },
     "execution_count": 1,
     "metadata": {},
     "output_type": "execute_result"
    }
   ],
   "source": [
    "a = \"Ehtesham Ali Khan\"\n",
    "a[:2]"
   ]
  },
  {
   "cell_type": "code",
   "execution_count": 2,
   "id": "7a5d74d1",
   "metadata": {},
   "outputs": [
    {
     "data": {
      "text/plain": [
       "17"
      ]
     },
     "execution_count": 2,
     "metadata": {},
     "output_type": "execute_result"
    }
   ],
   "source": [
    "len(a)"
   ]
  },
  {
   "cell_type": "code",
   "execution_count": 3,
   "id": "e31392d0",
   "metadata": {},
   "outputs": [
    {
     "data": {
      "text/plain": [
       "'nahK ilA mahsethE'"
      ]
     },
     "execution_count": 3,
     "metadata": {},
     "output_type": "execute_result"
    }
   ],
   "source": [
    "a[ : :-1]"
   ]
  },
  {
   "cell_type": "code",
   "execution_count": 4,
   "id": "ec2c9780",
   "metadata": {},
   "outputs": [],
   "source": [
    "import keyword"
   ]
  },
  {
   "cell_type": "code",
   "execution_count": 5,
   "id": "76b1b698",
   "metadata": {},
   "outputs": [
    {
     "name": "stdout",
     "output_type": "stream",
     "text": [
      "['False', 'None', 'True', '__peg_parser__', 'and', 'as', 'assert', 'async', 'await', 'break', 'class', 'continue', 'def', 'del', 'elif', 'else', 'except', 'finally', 'for', 'from', 'global', 'if', 'import', 'in', 'is', 'lambda', 'nonlocal', 'not', 'or', 'pass', 'raise', 'return', 'try', 'while', 'with', 'yield']\n"
     ]
    }
   ],
   "source": [
    "print(keyword.kwlist) "
   ]
  },
  {
   "cell_type": "code",
   "execution_count": 6,
   "id": "bae79bf9",
   "metadata": {},
   "outputs": [
    {
     "data": {
      "text/plain": [
       "36"
      ]
     },
     "execution_count": 6,
     "metadata": {},
     "output_type": "execute_result"
    }
   ],
   "source": [
    "len(keyword.kwlist)"
   ]
  },
  {
   "cell_type": "code",
   "execution_count": 7,
   "id": "722e1df9",
   "metadata": {},
   "outputs": [
    {
     "data": {
      "text/plain": [
       "'\\nThis is used for multiline\\ncommenting. remember these words\\nand signs and  keep them stick to your minds\\n'"
      ]
     },
     "execution_count": 7,
     "metadata": {},
     "output_type": "execute_result"
    }
   ],
   "source": [
    "'''\n",
    "This is used for multiline\n",
    "commenting. remember these words\n",
    "and signs and  keep them stick to your minds\n",
    "'''"
   ]
  },
  {
   "cell_type": "code",
   "execution_count": 8,
   "id": "38058d8f",
   "metadata": {},
   "outputs": [
    {
     "data": {
      "text/plain": [
       "14"
      ]
     },
     "execution_count": 8,
     "metadata": {},
     "output_type": "execute_result"
    }
   ],
   "source": [
    "a = 2 + 2 \\\n",
    "     + 5 + 5\n",
    "a"
   ]
  },
  {
   "cell_type": "code",
   "execution_count": 9,
   "id": "31678eda",
   "metadata": {},
   "outputs": [
    {
     "name": "stdout",
     "output_type": "stream",
     "text": [
      "0\n",
      "1\n",
      "2\n",
      "3\n",
      "4\n",
      "5\n",
      "6\n",
      "7\n",
      "8\n",
      "9\n",
      "10\n",
      "11\n",
      "12\n",
      "13\n",
      "14\n"
     ]
    }
   ],
   "source": [
    "for i in range(0,15):\n",
    "    print(i)"
   ]
  },
  {
   "cell_type": "code",
   "execution_count": 10,
   "id": "cc3dbb47",
   "metadata": {},
   "outputs": [
    {
     "data": {
      "text/plain": [
       "81"
      ]
     },
     "execution_count": 10,
     "metadata": {},
     "output_type": "execute_result"
    }
   ],
   "source": [
    "def square(n):\n",
    "    ''' Doc string is used to define what this function is for'''\n",
    "    return n*n\n",
    "\n",
    "square(9)"
   ]
  },
  {
   "cell_type": "code",
   "execution_count": 11,
   "id": "b412ae2f",
   "metadata": {},
   "outputs": [
    {
     "name": "stdout",
     "output_type": "stream",
     "text": [
      "even number \n"
     ]
    }
   ],
   "source": [
    "def eno(n):\n",
    "    '''even odd Function '''\n",
    "    if n % 2 ==0:\n",
    "        print(\"even number \")\n",
    "    elif n%2 !=0:\n",
    "        print(\"Odd number\")\n",
    "eno(30)"
   ]
  },
  {
   "cell_type": "code",
   "execution_count": 12,
   "id": "abcc18ad",
   "metadata": {},
   "outputs": [
    {
     "data": {
      "text/plain": [
       "'even odd Function '"
      ]
     },
     "execution_count": 12,
     "metadata": {},
     "output_type": "execute_result"
    }
   ],
   "source": [
    "eno.__doc__"
   ]
  },
  {
   "cell_type": "code",
   "execution_count": 13,
   "id": "ccbdbb0b",
   "metadata": {},
   "outputs": [
    {
     "data": {
      "text/plain": [
       "('0x1fc336a6700', function)"
      ]
     },
     "execution_count": 13,
     "metadata": {},
     "output_type": "execute_result"
    }
   ],
   "source": [
    "# check the hex id\n",
    "a = \"Hassan Ali Khan\"\n",
    "hex(id(eno)), type(eno)"
   ]
  },
  {
   "cell_type": "code",
   "execution_count": 14,
   "id": "4fee0ba5",
   "metadata": {},
   "outputs": [
    {
     "data": {
      "text/plain": [
       "200"
      ]
     },
     "execution_count": 14,
     "metadata": {},
     "output_type": "execute_result"
    }
   ],
   "source": [
    "# variable overwiting\n",
    "a = 100\n",
    "b = a +100\n",
    "b"
   ]
  },
  {
   "cell_type": "code",
   "execution_count": 15,
   "id": "443842a4",
   "metadata": {},
   "outputs": [
    {
     "name": "stdout",
     "output_type": "stream",
     "text": [
      "5\n",
      "10\n",
      "15\n"
     ]
    }
   ],
   "source": [
    "#  Multiple assignment\n",
    "a,b, c = 5,10,15\n",
    "print(a)\n",
    "print(b)\n",
    "print(c)"
   ]
  },
  {
   "cell_type": "markdown",
   "id": "c60617a0",
   "metadata": {},
   "source": [
    "Data Type "
   ]
  },
  {
   "cell_type": "code",
   "execution_count": 16,
   "id": "d442bbe3",
   "metadata": {},
   "outputs": [],
   "source": [
    "import sys"
   ]
  },
  {
   "cell_type": "code",
   "execution_count": 17,
   "id": "77de04db",
   "metadata": {},
   "outputs": [
    {
     "name": "stdout",
     "output_type": "stream",
     "text": [
      "28\n"
     ]
    }
   ],
   "source": [
    "a = 10\n",
    "print(sys.getsizeof(a))"
   ]
  },
  {
   "cell_type": "code",
   "execution_count": 18,
   "id": "4f3806f2",
   "metadata": {},
   "outputs": [
    {
     "name": "stdout",
     "output_type": "stream",
     "text": [
      "24\n"
     ]
    }
   ],
   "source": [
    "b = 3952222.1458\n",
    "print(sys.getsizeof(b))"
   ]
  },
  {
   "cell_type": "code",
   "execution_count": 19,
   "id": "0cc24577",
   "metadata": {},
   "outputs": [
    {
     "data": {
      "text/plain": [
       "'Ehtesham Ali KhanEhtesham Ali KhanEhtesham Ali KhanEhtesham Ali KhanEhtesham Ali Khan'"
      ]
     },
     "metadata": {},
     "output_type": "display_data"
    }
   ],
   "source": [
    "v = \"Ehtesham Ali Khan\"\n",
    "r = v*5\n",
    "display(r)"
   ]
  },
  {
   "cell_type": "code",
   "execution_count": 20,
   "id": "374f28a6",
   "metadata": {},
   "outputs": [
    {
     "data": {
      "text/plain": [
       "'Ehtesham Ali Khan'"
      ]
     },
     "execution_count": 20,
     "metadata": {},
     "output_type": "execute_result"
    }
   ],
   "source": [
    "v[-17:]"
   ]
  },
  {
   "cell_type": "code",
   "execution_count": 21,
   "id": "a3884dfe",
   "metadata": {},
   "outputs": [
    {
     "ename": "TypeError",
     "evalue": "'str' object does not support item assignment",
     "output_type": "error",
     "traceback": [
      "\u001b[1;31m---------------------------------------------------------------------------\u001b[0m",
      "\u001b[1;31mTypeError\u001b[0m                                 Traceback (most recent call last)",
      "\u001b[1;32mC:\\Users\\PCWORL~1\\AppData\\Local\\Temp/ipykernel_11784/3907532250.py\u001b[0m in \u001b[0;36m<module>\u001b[1;34m\u001b[0m\n\u001b[1;32m----> 1\u001b[1;33m \u001b[0mv\u001b[0m\u001b[1;33m[\u001b[0m\u001b[1;36m0\u001b[0m\u001b[1;33m:\u001b[0m\u001b[1;36m8\u001b[0m\u001b[1;33m]\u001b[0m \u001b[1;33m=\u001b[0m \u001b[1;34m\"hassan\"\u001b[0m\u001b[1;33m\u001b[0m\u001b[1;33m\u001b[0m\u001b[0m\n\u001b[0m",
      "\u001b[1;31mTypeError\u001b[0m: 'str' object does not support item assignment"
     ]
    }
   ],
   "source": [
    "v[0:8] = \"hassan\""
   ]
  },
  {
   "cell_type": "code",
   "execution_count": null,
   "id": "2997d55f",
   "metadata": {},
   "outputs": [],
   "source": [
    "del v"
   ]
  },
  {
   "cell_type": "code",
   "execution_count": null,
   "id": "34fedff5",
   "metadata": {},
   "outputs": [],
   "source": [
    "t = \"tension\"\n",
    "for  i in enumerate(t):\n",
    "    print(i)"
   ]
  },
  {
   "cell_type": "markdown",
   "id": "ed1d444c",
   "metadata": {},
   "source": [
    "# Strip is used for removing all white spaces"
   ]
  },
  {
   "cell_type": "code",
   "execution_count": null,
   "id": "608d49a6",
   "metadata": {},
   "outputs": [],
   "source": [
    "c = \"   Hello   \"\n",
    "print(c.strip()) "
   ]
  },
  {
   "cell_type": "raw",
   "id": "2562c63a",
   "metadata": {},
   "source": [
    "Remove all characters at the begining or at the end of the string"
   ]
  },
  {
   "cell_type": "code",
   "execution_count": null,
   "id": "06fe8f15",
   "metadata": {},
   "outputs": [],
   "source": [
    "c = \"/*/*/*/*/ Hello */*/*/*/\"\n",
    "print(c.strip('/*')) "
   ]
  },
  {
   "cell_type": "code",
   "execution_count": null,
   "id": "d31ecd74",
   "metadata": {},
   "outputs": [],
   "source": [
    "c.upper()"
   ]
  },
  {
   "cell_type": "code",
   "execution_count": null,
   "id": "64b54b5c",
   "metadata": {},
   "outputs": [],
   "source": [
    "t= \"Good Morning\"\n",
    "print(t.lower())\n",
    "print(t.upper())\n",
    "print(t.title())"
   ]
  },
  {
   "cell_type": "code",
   "execution_count": null,
   "id": "7dd0fc6e",
   "metadata": {},
   "outputs": [],
   "source": [
    "t.replace(\"Morning\",\"Night\")"
   ]
  },
  {
   "cell_type": "raw",
   "id": "04781e92",
   "metadata": {},
   "source": [
    "You can remove white spaces as well using replace function"
   ]
  },
  {
   "cell_type": "code",
   "execution_count": null,
   "id": "7608d34d",
   "metadata": {},
   "outputs": [],
   "source": [
    "t.replace(\" \",\"\")"
   ]
  },
  {
   "cell_type": "markdown",
   "id": "9939f06c",
   "metadata": {},
   "source": [
    "To see the occurance of particular words in the string"
   ]
  },
  {
   "cell_type": "code",
   "execution_count": null,
   "id": "d658f0c2",
   "metadata": {},
   "outputs": [],
   "source": [
    "t.count(\"n\") # n appears two times inthe t string"
   ]
  },
  {
   "cell_type": "code",
   "execution_count": null,
   "id": "245a1678",
   "metadata": {},
   "outputs": [],
   "source": [
    "t.strip()"
   ]
  },
  {
   "cell_type": "code",
   "execution_count": null,
   "id": "38e8eaa0",
   "metadata": {},
   "outputs": [],
   "source": [
    "#  to check if the required letter starts with the required string\n",
    "t.startswith(\"Good\")"
   ]
  },
  {
   "cell_type": "code",
   "execution_count": null,
   "id": "d76cc7e6",
   "metadata": {},
   "outputs": [],
   "source": [
    "print(t.endswith(\"Morning\"))"
   ]
  },
  {
   "cell_type": "code",
   "execution_count": null,
   "id": "02672e41",
   "metadata": {},
   "outputs": [],
   "source": [
    "e = \"Ehtesham ali khan\"\n",
    "e.startswith(\"Ehtesham\")"
   ]
  },
  {
   "cell_type": "code",
   "execution_count": null,
   "id": "022bbb4e",
   "metadata": {},
   "outputs": [],
   "source": [
    "e.endswith(\"n\")"
   ]
  },
  {
   "cell_type": "code",
   "execution_count": null,
   "id": "b2ac3c2c",
   "metadata": {},
   "outputs": [],
   "source": [
    "e.split()"
   ]
  },
  {
   "cell_type": "markdown",
   "id": "b8eff467",
   "metadata": {},
   "source": [
    "# List "
   ]
  },
  {
   "cell_type": "code",
   "execution_count": null,
   "id": "b2126ced",
   "metadata": {},
   "outputs": [],
   "source": [
    "l = [1,2,3,4,5]\n",
    "type(l)\n",
    "hex(id(l))"
   ]
  },
  {
   "cell_type": "code",
   "execution_count": null,
   "id": "d57153fd",
   "metadata": {},
   "outputs": [],
   "source": [
    "print(sys.getsizeof(l))"
   ]
  },
  {
   "cell_type": "code",
   "execution_count": null,
   "id": "2df40b7e",
   "metadata": {},
   "outputs": [],
   "source": [
    "type(l)"
   ]
  },
  {
   "cell_type": "code",
   "execution_count": null,
   "id": "b3f6e77f",
   "metadata": {},
   "outputs": [],
   "source": [
    "l[::-1]"
   ]
  },
  {
   "cell_type": "code",
   "execution_count": null,
   "id": "39efb2df",
   "metadata": {},
   "outputs": [],
   "source": [
    "l.reverse()\n",
    "l"
   ]
  },
  {
   "cell_type": "code",
   "execution_count": null,
   "id": "af78d34c",
   "metadata": {},
   "outputs": [],
   "source": [
    "l.sort()\n",
    "l"
   ]
  },
  {
   "cell_type": "code",
   "execution_count": null,
   "id": "e132853e",
   "metadata": {},
   "outputs": [],
   "source": [
    "b = [\"one\",\"two\",\"three\"]"
   ]
  },
  {
   "cell_type": "code",
   "execution_count": null,
   "id": "317d6789",
   "metadata": {},
   "outputs": [],
   "source": [
    "b.reverse()\n",
    "b"
   ]
  },
  {
   "cell_type": "code",
   "execution_count": null,
   "id": "f68680fa",
   "metadata": {},
   "outputs": [],
   "source": [
    "b.pop()"
   ]
  },
  {
   "cell_type": "code",
   "execution_count": null,
   "id": "229cbd5e",
   "metadata": {},
   "outputs": [],
   "source": [
    "b"
   ]
  },
  {
   "cell_type": "code",
   "execution_count": null,
   "id": "0dfec183",
   "metadata": {},
   "outputs": [],
   "source": [
    "b.remove(\"two\")"
   ]
  },
  {
   "cell_type": "code",
   "execution_count": null,
   "id": "8f0dc9d3",
   "metadata": {},
   "outputs": [],
   "source": [
    "b"
   ]
  },
  {
   "cell_type": "code",
   "execution_count": null,
   "id": "a3b36b57",
   "metadata": {},
   "outputs": [],
   "source": [
    "b.append(\"new\")"
   ]
  },
  {
   "cell_type": "code",
   "execution_count": null,
   "id": "a5519bf5",
   "metadata": {},
   "outputs": [],
   "source": [
    "b"
   ]
  },
  {
   "cell_type": "code",
   "execution_count": null,
   "id": "9c81d6b4",
   "metadata": {},
   "outputs": [],
   "source": [
    "b.insert(0,\"one\")"
   ]
  },
  {
   "cell_type": "code",
   "execution_count": null,
   "id": "ef1a4e5d",
   "metadata": {},
   "outputs": [],
   "source": [
    "b"
   ]
  },
  {
   "cell_type": "code",
   "execution_count": null,
   "id": "d9ff68e3",
   "metadata": {},
   "outputs": [],
   "source": [
    "c = [\"two\",\"four\",\"five\"]\n",
    "b.extend(c)\n",
    "b"
   ]
  },
  {
   "cell_type": "code",
   "execution_count": null,
   "id": "53bc8d44",
   "metadata": {},
   "outputs": [],
   "source": [
    "b.sort(reverse=True)\n",
    "b"
   ]
  },
  {
   "cell_type": "code",
   "execution_count": null,
   "id": "9eadf33b",
   "metadata": {},
   "outputs": [],
   "source": [
    "for i in b:\n",
    "    print(i)"
   ]
  },
  {
   "cell_type": "code",
   "execution_count": null,
   "id": "8558ab0e",
   "metadata": {},
   "outputs": [],
   "source": [
    "for i in enumerate(b):\n",
    "    print(i)"
   ]
  },
  {
   "cell_type": "code",
   "execution_count": null,
   "id": "0db41619",
   "metadata": {},
   "outputs": [],
   "source": [
    "d = [i for i in enumerate(b) ]\n",
    "list(d)"
   ]
  },
  {
   "cell_type": "code",
   "execution_count": null,
   "id": "2bb5d5e6",
   "metadata": {},
   "outputs": [],
   "source": [
    "b.items()"
   ]
  },
  {
   "cell_type": "code",
   "execution_count": null,
   "id": "44ee51d2",
   "metadata": {},
   "outputs": [],
   "source": [
    "b.count(\"two\")"
   ]
  },
  {
   "cell_type": "code",
   "execution_count": null,
   "id": "788170de",
   "metadata": {},
   "outputs": [],
   "source": [
    "#  LIst comprehension\n",
    "\n",
    "even = [i for i in range(0,100) if i%2 == 0]\n",
    "print(even)"
   ]
  },
  {
   "cell_type": "code",
   "execution_count": null,
   "id": "9fcc647f",
   "metadata": {},
   "outputs": [],
   "source": [
    "odd = [i for i in range(0,100) if i%2 !=0]\n",
    "print(odd)"
   ]
  },
  {
   "cell_type": "code",
   "execution_count": null,
   "id": "9b25b7e7",
   "metadata": {},
   "outputs": [],
   "source": [
    "# Print square of first 10 numbers\n",
    "square = [i*2 for i in range(10)]\n",
    "square"
   ]
  },
  {
   "cell_type": "code",
   "execution_count": 22,
   "id": "cc65041a",
   "metadata": {},
   "outputs": [
    {
     "data": {
      "text/plain": [
       "[0, 3, 6, 9, 12, 15, 18, 21, 24, 27]"
      ]
     },
     "execution_count": 22,
     "metadata": {},
     "output_type": "execute_result"
    }
   ],
   "source": [
    "# print cube of first ten numbers\n",
    "cube = [i*3 for i in range(10)]\n",
    "cube"
   ]
  },
  {
   "cell_type": "code",
   "execution_count": 25,
   "id": "b8c97675",
   "metadata": {},
   "outputs": [
    {
     "data": {
      "text/plain": [
       "['1', '2', '3', '4']"
      ]
     },
     "execution_count": 25,
     "metadata": {},
     "output_type": "execute_result"
    }
   ],
   "source": [
    "# extract digits from a string\n",
    "w = \"one 1 two 2 3 three 4 four\"\n",
    "x = [i for i in w if i.isdigit()]\n",
    "x"
   ]
  },
  {
   "cell_type": "code",
   "execution_count": 26,
   "id": "44f347f6",
   "metadata": {},
   "outputs": [],
   "source": [
    "y = [i for i in w if i.isalpha()]"
   ]
  },
  {
   "cell_type": "code",
   "execution_count": 27,
   "id": "8ac12664",
   "metadata": {},
   "outputs": [
    {
     "data": {
      "text/plain": [
       "['o', 'n', 'e', 't', 'w', 'o', 't', 'h', 'r', 'e', 'e', 'f', 'o', 'u', 'r']"
      ]
     },
     "execution_count": 27,
     "metadata": {},
     "output_type": "execute_result"
    }
   ],
   "source": [
    "y"
   ]
  },
  {
   "cell_type": "code",
   "execution_count": null,
   "id": "d2db9c26",
   "metadata": {},
   "outputs": [],
   "source": []
  }
 ],
 "metadata": {
  "kernelspec": {
   "display_name": "Python 3 (ipykernel)",
   "language": "python",
   "name": "python3"
  },
  "language_info": {
   "codemirror_mode": {
    "name": "ipython",
    "version": 3
   },
   "file_extension": ".py",
   "mimetype": "text/x-python",
   "name": "python",
   "nbconvert_exporter": "python",
   "pygments_lexer": "ipython3",
   "version": "3.9.7"
  }
 },
 "nbformat": 4,
 "nbformat_minor": 5
}
